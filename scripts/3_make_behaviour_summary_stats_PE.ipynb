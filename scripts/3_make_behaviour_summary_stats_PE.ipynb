{
 "cells": [
  {
   "cell_type": "markdown",
   "metadata": {},
   "source": [
    "The purpose of this script is to generate .csv files containing behavioural summary statistics (mean accuracy and RT) for each condition in the PE experiment"
   ]
  },
  {
   "cell_type": "markdown",
   "metadata": {},
   "source": [
    "# Import necessaries"
   ]
  },
  {
   "cell_type": "code",
   "execution_count": null,
   "metadata": {},
   "outputs": [],
   "source": [
    "%pylab inline\n",
    "import pandas as pd\n",
    "import os\n",
    "import numpy as np\n",
    "from IPython.core.display import display, HTML\n",
    "display(HTML(\"<style>.container { width:80% !important; }</style>\"))\n",
    "import itertools\n",
    "\n",
    "pd.set_option('display.max_rows', 150)"
   ]
  },
  {
   "cell_type": "code",
   "execution_count": null,
   "metadata": {},
   "outputs": [],
   "source": [
    "# Define top dir\n",
    "topDir = open('../top_dir_win.txt').read().replace('\\n', '')"
   ]
  },
  {
   "cell_type": "markdown",
   "metadata": {},
   "source": [
    "# Define path to behavioural data, subjects and conditions"
   ]
  },
  {
   "cell_type": "code",
   "execution_count": null,
   "metadata": {},
   "outputs": [],
   "source": [
    "#### Specify subject and input data\n",
    "subjects = ['subject-002', 'subject-003', 'subject-004', 'subject-005', 'subject-006',\n",
    "            'subject-007', 'subject-008', 'subject-009', 'subject-010', 'subject-011', 'subject-012',\n",
    "            'subject-013', 'subject-014', 'subject-015', 'subject-016', 'subject-017', 'subject-018',\n",
    "           'subject-019', 'subject-020', 'subject-021', 'subject-022', 'subject-023', 'subject-024',\n",
    "           'subject-025', 'subject-026', 'subject-027', 'subject-028', 'subject-029', 'subject-030']\n",
    "\n",
    "conditions = ['aloud', 'silent', 'foil']\n",
    "\n",
    "\n",
    "\n",
    "behav_data_path = topDir + \"/behavioural_data/\"\n",
    "in_file_path = behav_data_path + \"/fmri_runs1/\" \n",
    "\n",
    "# Specify directories for output (and make directories if they don't alraedy exist)\n",
    "out_file_path = behav_data_path + \"/PE_behavioural_summary_stats\"\n",
    "if not os.path.exists(out_file_path):\n",
    "    os.makedirs(out_file_path)\n"
   ]
  },
  {
   "cell_type": "markdown",
   "metadata": {},
   "source": [
    "# Make summary stats files (mean accuracy & mean rt) for each condition"
   ]
  },
  {
   "cell_type": "code",
   "execution_count": null,
   "metadata": {},
   "outputs": [],
   "source": [
    "# Loop through conditions, creating a summary stats dataframe for each\n",
    "for condition in conditions:\n",
    "\n",
    "    # Create empty dta frame to hold our summary stats\n",
    "    summary_stats = pd.DataFrame(columns = ['subject_id', 'condition', 'mean_accuracy', 'mean_rt'])\n",
    "\n",
    "    # Loop through subjects. For each subject, we will read in their behavioural data, \n",
    "    # compute mean accuracy and rt, and append their data to our summary stats dataframe\n",
    "    for idx, subject in enumerate(subjects):\n",
    "\n",
    "        # Define path to behavioural csv for this subject, read in the data\n",
    "        in_file = in_file_path + subject + '/' + subject + \"_test.csv\" \n",
    "        cols = ['test_cond', 'tested_word', 'test_resp.corr', 'test_resp.rt']  \n",
    "        df = pd.read_csv(in_file, usecols = cols)\n",
    "\n",
    "        # Rename columns for convenience \n",
    "        df.rename(columns={'test_cond':\"CONDITION\", 'tested_word':'WORD', 'test_resp.corr': 'ACC', 'test_resp.rt': 'RT'}, inplace=True)        \n",
    "\n",
    "        # Remove NaNs\n",
    "        df.dropna(subset = ['WORD'], inplace=True)\n",
    "        \n",
    "        # Grab the data for this condition, compute mean accuracy and rt\n",
    "        df_condition = df[df[\"CONDITION\"] == condition]\n",
    "\n",
    "        mean_acc = mean(df_condition['ACC'])\n",
    "        mean_rt = mean(df_condition['RT'])\n",
    "        \n",
    "        # Append mean values to the summary stats dataframe\n",
    "        summary_stats.loc[idx] = [subject, condition, mean_acc, mean_rt]\n",
    "        \n",
    "    # Save summary stats to disk \n",
    "    summary_stats.to_csv(out_file_path + '/' + condition + '_behav_summary_stats.csv', index = False)\n",
    "\n"
   ]
  },
  {
   "cell_type": "markdown",
   "metadata": {},
   "source": [
    "# Make summary stats file for Production Effect (aloud - silent)"
   ]
  },
  {
   "cell_type": "code",
   "execution_count": null,
   "metadata": {},
   "outputs": [],
   "source": [
    "# Create empty dta frame to hold our summary stats\n",
    "summary_stats_PE = pd.DataFrame(columns = ['subject_id', 'condition', 'mean_accuracy', 'mean_rt'])\n",
    "\n",
    "# Loop through subjects. For each subject, get mean accuracy and rt for BOTH aloud and silent, \n",
    "# compute aloud-silent (i.e. magnitude of PE), and append to our PE dataframe\n",
    "for idx, subject in enumerate(subjects):\n",
    "\n",
    "    # Define path to behavioural csv for this subject, read in the data\n",
    "    in_file = in_file_path + subject + '/' + subject + \"_test.csv\" \n",
    "    cols = ['test_cond', 'tested_word', 'test_resp.corr', 'test_resp.rt']  \n",
    "    df = pd.read_csv(in_file, usecols = cols)\n",
    "\n",
    "    # Rename columns for convenience \n",
    "    df.rename(columns={'test_cond':\"CONDITION\", 'tested_word':'WORD', 'test_resp.corr': 'ACC', 'test_resp.rt': 'RT'}, inplace=True)        \n",
    "    \n",
    "    # Remove NaNs\n",
    "    df.dropna(subset = ['WORD'], inplace=True)\n",
    "    \n",
    "    # Grab the data for this condition, compute mean accuracy and rt\n",
    "    df_aloud = df[df[\"CONDITION\"] == 'aloud']\n",
    "    df_silent = df[df[\"CONDITION\"] == 'silent']\n",
    "        \n",
    "    # Compute accuracy difference\n",
    "    mean_acc_aloud = mean(df_aloud['ACC'])\n",
    "    mean_acc_silent = mean(df_silent['ACC'])\n",
    "    \n",
    "    mean_acc_PE = mean_acc_aloud - mean_acc_silent\n",
    "    \n",
    "    # Do the same for rt\n",
    "    mean_rt_aloud = mean(df_aloud['RT'])\n",
    "    mean_rt_silent = mean(df_silent['RT'])\n",
    "    \n",
    "    mean_rt_PE = mean_rt_aloud - mean_rt_silent    \n",
    "    \n",
    "    \n",
    "    # Append mean values to the summary stats dataframe\n",
    "    summary_stats_PE.loc[idx] = [subject, 'PE', mean_acc_PE, mean_rt_PE]\n",
    "    \n",
    "# Save to disk \n",
    "summary_stats_PE.to_csv(out_file_path + '/PE_behav_summary_stats.csv', index = False)"
   ]
  },
  {
   "cell_type": "markdown",
   "metadata": {},
   "source": [
    "# Make behavioural dsms"
   ]
  },
  {
   "cell_type": "code",
   "execution_count": null,
   "metadata": {},
   "outputs": [],
   "source": [
    "for subject in subjects: \n",
    "    \n",
    "    # Define path to behavioural csv for this subject, read in the data\n",
    "    in_file = in_file_path + subject + '/' + subject + \"_test.csv\" \n",
    "    cols = ['test_cond', 'tested_word', 'test_resp.corr', 'test_resp.rt']  \n",
    "    df = pd.read_csv(in_file, usecols = cols)\n",
    "\n",
    "\n",
    "    # Rename columns for convenience \n",
    "    df.rename(columns={'test_cond':\"CONDITION\", 'tested_word':'WORD', 'test_resp.corr': 'ACC', 'test_resp.rt': 'RT'}, inplace=True)\n",
    "    \n",
    "    # Remove NaNs\n",
    "    df.dropna(subset = ['WORD'], inplace=True)\n",
    "    \n",
    "    for condition in ['aloud']:\n",
    "        \n",
    "        # Define output paths\n",
    "        rt_out_path = \"../../MRIanalyses/assets/\" + subject + \"/\" + subject + \"_\" + condition + \"_rt_raw.csv\"\n",
    "        dsm_out_path = \"../../MRIanalyses/assets/\" + subject + \"/\" + subject + \"_\" + condition + \"_rt_dsm.csv\"\n",
    "\n",
    "        this_df = df[df['CONDITION']==condition]\n",
    "        \n",
    "        \n",
    "\n",
    "        # Save raw RTs for each item to disk\n",
    "        this_df[['WORD', 'RT']].to_csv(rt_out_path, index = False)\n",
    "\n",
    "        # Grab list of words and compute all pairs\n",
    "        word_list = sorted(list(this_df['WORD']))\n",
    "        pairs = itertools.permutations(word_list, 2)\n",
    "\n",
    "        # Define an empty matrix, containing a row/column for ever word\n",
    "        matrix=pd.DataFrame(index=word_list, columns=word_list)\n",
    "\n",
    "        # Loop through pairs\n",
    "        for pair in pairs:\n",
    "\n",
    "            w1 = pair[0]\n",
    "            w2 = pair[1]\n",
    "\n",
    "            # Get rt for each word in the pair\n",
    "            rt1 = float(this_df.loc[this_df['WORD']==w1]['RT'])\n",
    "            rt2 = float(this_df.loc[this_df['WORD']==w2]['RT'])\n",
    "\n",
    "            # Compute difference and slot into our matrix\n",
    "            distance = abs(rt1-rt2)\n",
    "            matrix.loc[matrix.index==pair[0], matrix.columns==pair[1]]=distance\n",
    "\n",
    "            # Enter zeros along the diagonal\n",
    "            matrix.loc[matrix.index==pair[0], matrix.columns==pair[0]]=0\n",
    "\n",
    "        # Save matrix to disk\n",
    "        matrix.to_csv(dsm_out_path)\n",
    "\n"
   ]
  },
  {
   "cell_type": "code",
   "execution_count": null,
   "metadata": {},
   "outputs": [],
   "source": []
  }
 ],
 "metadata": {
  "anaconda-cloud": {},
  "kernel_info": {
   "name": "python3"
  },
  "kernelspec": {
   "display_name": "Python 3 (ipykernel)",
   "language": "python",
   "name": "python3"
  },
  "language_info": {
   "codemirror_mode": {
    "name": "ipython",
    "version": 3
   },
   "file_extension": ".py",
   "mimetype": "text/x-python",
   "name": "python",
   "nbconvert_exporter": "python",
   "pygments_lexer": "ipython3",
   "version": "3.11.5"
  },
  "nteract": {
   "version": "0.8.4"
  }
 },
 "nbformat": 4,
 "nbformat_minor": 4
}
